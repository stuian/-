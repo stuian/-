{
 "cells": [
  {
   "cell_type": "markdown",
   "metadata": {},
   "source": [
    "# 面试知识"
   ]
  },
  {
   "cell_type": "markdown",
   "metadata": {},
   "source": [
    "## 编程语言"
   ]
  },
  {
   "cell_type": "markdown",
   "metadata": {},
   "source": [
    "### C语言"
   ]
  },
  {
   "cell_type": "markdown",
   "metadata": {},
   "source": [
    "参考链接：\n",
    "\n",
    "- [C语言菜鸟教程](https://www.runoob.com/cprogramming/c-intro.html)\n",
    "\n",
    "- [小甲鱼-知识点笔记](https://fishc.com.cn/forum.php?mod=forumdisplay&fid=329&page=1&filter=typeid&typeid=584)"
   ]
  },
  {
   "cell_type": "markdown",
   "metadata": {},
   "source": [
    "#### 基础介绍"
   ]
  },
  {
   "cell_type": "markdown",
   "metadata": {},
   "source": [
    "1、编程：机器码（计算机能直接识别的语言，有0-1二进制组成，计算机通过查找指令表，可以将机器码与具体指令对应起来）->汇编语言（引入助记符来编程，然后由汇编编译器将其转化为机器码，这个过程叫做编译）->高级语言（c语言，java，python等）\n",
    "2、编译型语言（c语言等）和解释型语言（python等）\n",
    "\n",
    "c语言的特点：\n",
    "- 效率高：\n",
    "    - c语言好比做好一桌子菜再吃\n",
    "    - python好比下火锅，下什么吃什么\n",
    "- 灵活性：结构体（可自定义各种数据结构）；指针（可对计算机硬件进行操作）\n",
    "- 可移植性强：不用修改或者稍加修改就可在各种平台上运行"
   ]
  },
  {
   "cell_type": "markdown",
   "metadata": {},
   "source": [
    "#### 输入和输出"
   ]
  },
  {
   "cell_type": "markdown",
   "metadata": {},
   "source": [
    "#include <stdio.h>\n",
    "#include <stdlib.h>\n",
    "\n",
    "int main()\n",
    "{\n",
    "    int a,b,c;\n",
    "    char d;\n",
    "    scanf(\"%d%d%d%c\",&a,&b,&c,&d)\n",
    "    printf(\"Hello world!\\n\");\n",
    "    return 0;\n",
    "}"
   ]
  },
  {
   "cell_type": "markdown",
   "metadata": {},
   "source": [
    "#### 变量"
   ]
  },
  {
   "cell_type": "markdown",
   "metadata": {},
   "source": [
    "C 语言常用的基本数据类型\n",
    "\n",
    "- char —— 字符型，占用一个字节\n",
    "- int —— 整型，通常反映了所用机器中整数的最自然长度\n",
    "- float —— 单精度浮点型\n",
    "- double —— 双精度浮点型\n",
    "\n",
    "// 声明\n",
    "int a;"
   ]
  },
  {
   "cell_type": "markdown",
   "metadata": {},
   "source": [
    "#### [常用和宏定义](https://fishc.com.cn/forum.php?mod=viewthread&tid=66888&extra=page%3D1%26filter%3Dtypeid%26typeid%3D584)"
   ]
  },
  {
   "cell_type": "markdown",
   "metadata": {},
   "source": [
    "1、C 语言中常见的常量\n",
    "\n",
    "- 整型常量：520, 1314, 123\n",
    "- 实型常量：3.14, 5.12, 8.97\n",
    "- 字符常量\n",
    "    - 普通字符：'L', 'o', 'v', 'e'\n",
    "    - 转义字符：'\\n', '\\t', '\\b'\n",
    "    - 字符串常量：\"FishC\"\n",
    "    - 符号常量：使用之前必须先定义，如下所示：\n",
    "    - \\# define name \"蒋文君\""
   ]
  },
  {
   "cell_type": "markdown",
   "metadata": {},
   "source": [
    "#### 数据类型"
   ]
  },
  {
   "cell_type": "markdown",
   "metadata": {},
   "source": [
    "![数据类型](https://xxx.ilovefishc.com/forum/201512/12/164326dlzlrmeyddbu7ukm.png)"
   ]
  },
  {
   "cell_type": "markdown",
   "metadata": {},
   "source": [
    "- int;char;float;double;_Bool;enum;\n",
    "- sizeof();\n",
    "- signed;unsigned;"
   ]
  },
  {
   "cell_type": "markdown",
   "metadata": {},
   "source": [
    "#### [取值范围](https://fishc.com.cn/forum.php?mod=viewthread&tid=67265&extra=page%3D1%26filter%3Dtypeid%26typeid%3D584)"
   ]
  },
  {
   "cell_type": "markdown",
   "metadata": {},
   "source": [
    "二进制表示上界和下界（补码）\n",
    "\n",
    "![二进制表示](https://xxx.ilovefishc.com/forum/201512/23/165909h1uzsn9ymzzd1wy9.png)"
   ]
  },
  {
   "cell_type": "markdown",
   "metadata": {},
   "source": [
    "![取值范围](https://xxx.ilovefishc.com/forum/201512/27/205729vnwzeadn08gx9h89.png)\n",
    "![取值范围2](https://xxx.ilovefishc.com/forum/201512/27/205731iielfelc4o58efec.png)"
   ]
  },
  {
   "cell_type": "markdown",
   "metadata": {},
   "source": [
    "#### 字符和字符串"
   ]
  },
  {
   "cell_type": "markdown",
   "metadata": {},
   "source": [
    "字符：特征的整型。\n",
    "\n",
    "字符串定义：\n",
    "- char nums[6]={'t','w','j','j','\\0'};\n",
    "- char nums[]={\"twjj\"};"
   ]
  },
  {
   "cell_type": "markdown",
   "metadata": {},
   "source": [
    "#### 运算符 "
   ]
  },
  {
   "cell_type": "markdown",
   "metadata": {},
   "source": [
    "- 算术运算符\n",
    "\n",
    "![算术运算符](https://xxx.ilovefishc.com/forum/201601/09/165902swzk2r3np372p3np.png)\n",
    "\n",
    "- 关系运算符\n",
    "\n",
    ">;<:=:==;!=\n",
    "\n",
    "- 逻辑运算符\n",
    "\n",
    "    - 与（&&）\n",
    "    - 或(||)\n",
    "    - 非(!)"
   ]
  },
  {
   "cell_type": "markdown",
   "metadata": {},
   "source": [
    "#### 分支结构"
   ]
  },
  {
   "cell_type": "markdown",
   "metadata": {},
   "source": [
    "'''\n",
    "if ()\n",
    "{\n",
    "}\n",
    "else if()\n",
    "{\n",
    "}\n",
    "else\n",
    "{\n",
    "}\n",
    "'''"
   ]
  },
  {
   "cell_type": "markdown",
   "metadata": {},
   "source": [
    "'''\n",
    "while()\n",
    "   xxx\n",
    "'''\n",
    "\n",
    "或者\n",
    "\n",
    "'''\n",
    "do\n",
    "while();\n",
    "'''"
   ]
  },
  {
   "cell_type": "markdown",
   "metadata": {},
   "source": [
    "switch(){\n",
    "   case xx:xxx\n",
    "   case xx:xxx\n",
    "   default:\n",
    "}"
   ]
  },
  {
   "cell_type": "markdown",
   "metadata": {},
   "source": [
    "#### 循环"
   ]
  },
  {
   "cell_type": "markdown",
   "metadata": {},
   "source": [
    "for(int i=0;i<5;i++){\n",
    "}"
   ]
  },
  {
   "cell_type": "markdown",
   "metadata": {},
   "source": [
    "#### 数组"
   ]
  },
  {
   "cell_type": "markdown",
   "metadata": {},
   "source": [
    "1、一元数组\n",
    "\n",
    "- int a[7]={1,2,3,4};\n",
    "- char b[]={\"twjj\"};\n",
    "- \\# 字符串处理函数\n",
    "- strlen(b);\n",
    "- strcpy(b,\"abc\");\n",
    "- strcmp(a,b);//等于0表示两个字符串相同\n",
    "\n",
    "\n",
    "2、二元数组\n",
    "- int a[3][4] = {{1, 2, 3, 4}, {5, 6, 7, 8}, {9, 10, 11, 12}};\n",
    "\n",
    "// 都是线性存放的"
   ]
  },
  {
   "cell_type": "markdown",
   "metadata": {},
   "source": [
    "####  指针"
   ]
  },
  {
   "cell_type": "markdown",
   "metadata": {},
   "source": [
    "- 指针就是地址\n",
    "- 指针变量就是用来存放地址的变量\n",
    "- 指针变量的定义：\n",
    "\n",
    "char a = 'a';\n",
    "char *p = &a;\n",
    "printf('%c\\n',*p);"
   ]
  },
  {
   "cell_type": "markdown",
   "metadata": {},
   "source": [
    "#### 指针和数组"
   ]
  },
  {
   "cell_type": "markdown",
   "metadata": {},
   "source": [
    "- 数组的名字即其第一个元素的地址\n",
    "\n",
    "char a[6] = {'twjj'};\n",
    "char *p;\n",
    "p = a; or p = &a[0];\n",
    "p+1(指针运算，指向下一个元素)"
   ]
  },
  {
   "cell_type": "markdown",
   "metadata": {},
   "source": [
    "- 数组指针和指针数组\n",
    "\n"
   ]
  },
  {
   "cell_type": "markdown",
   "metadata": {},
   "source": [
    "## 数据结构和算法"
   ]
  },
  {
   "cell_type": "markdown",
   "metadata": {},
   "source": [
    "> 注意边界条件：比如头结点为空\n",
    "\n",
    "> 全是小错误，难受了"
   ]
  },
  {
   "cell_type": "markdown",
   "metadata": {},
   "source": [
    "常用的数据结构\n",
    "- 线性表\n",
    "- 链表\n",
    "- 树\n",
    "- 图\n",
    "- 哈希表：储存键值对"
   ]
  },
  {
   "cell_type": "markdown",
   "metadata": {},
   "source": [
    "堆和栈\n",
    "- 堆：完全二叉树，树中非叶子节点的值均不大于（不小于）其左右两边的子节点。"
   ]
  },
  {
   "cell_type": "markdown",
   "metadata": {},
   "source": [
    "### 排序"
   ]
  },
  {
   "cell_type": "markdown",
   "metadata": {},
   "source": [
    "#### python自带"
   ]
  },
  {
   "cell_type": "code",
   "execution_count": 5,
   "metadata": {},
   "outputs": [
    {
     "name": "stdout",
     "output_type": "stream",
     "text": [
      "[3, 2, 2, 1]\n"
     ]
    }
   ],
   "source": [
    "a = [2,3,1,2]\n",
    "a.sort(reverse=True)\n",
    "print(a)"
   ]
  },
  {
   "cell_type": "code",
   "execution_count": 6,
   "metadata": {},
   "outputs": [
    {
     "name": "stdout",
     "output_type": "stream",
     "text": [
      "[1,3,5,2,2],5,3\n",
      "[1, 3, 5, 2, 2]\n",
      "[2,3,4]\n",
      "[2]\n",
      " \n"
     ]
    }
   ],
   "source": [
    "# 输入格式\n",
    "while True:\n",
    "    try:\n",
    "        x = input().replace(\"]\",'')\n",
    "        x = x.replace(\"[\",'')\n",
    "        x = list(x.split(','))\n",
    "        k = int(x.pop())\n",
    "        n = int(x.pop())\n",
    "        temp = list(map(int,x))\n",
    "        print(temp)\n",
    "    except:\n",
    "        break"
   ]
  },
  {
   "cell_type": "markdown",
   "metadata": {},
   "source": [
    "#### 快速排序"
   ]
  },
  {
   "cell_type": "code",
   "execution_count": 18,
   "metadata": {},
   "outputs": [],
   "source": [
    "# 不熟练，写的很慢\n",
    "def location(arr,left,right):\n",
    "    temp = left\n",
    "    while left < right:\n",
    "        while left < right and arr[right]>=arr[temp]:\n",
    "                right -= 1\n",
    "        while left < right and arr[left]<=arr[temp]:\n",
    "                left += 1\n",
    "        # 交换left和right\n",
    "        c = arr[left] \n",
    "        arr[left] = arr[right]\n",
    "        arr[right] = c\n",
    "    # 把参考的数（arr[0]）放到left位置上\n",
    "    c = arr[temp]\n",
    "    arr[temp] = arr[left]\n",
    "    arr[left] = c\n",
    "    return left\n",
    "    \n",
    "def quicksort(arr,left,right):\n",
    "    if left < right:\n",
    "        temp = location(arr,left,right)\n",
    "        # 剩余左右两边\n",
    "        quicksort(arr,left,temp-1)\n",
    "        quicksort(arr,temp+1,right)"
   ]
  },
  {
   "cell_type": "code",
   "execution_count": 19,
   "metadata": {},
   "outputs": [
    {
     "name": "stdout",
     "output_type": "stream",
     "text": [
      "[1, 2, 3, 4, 5]\n"
     ]
    }
   ],
   "source": [
    "test = [5,2,3,1,4]\n",
    "quicksort(test,0,len(test)-1)\n",
    "print(test)"
   ]
  },
  {
   "cell_type": "markdown",
   "metadata": {},
   "source": [
    "#### 归并排序 "
   ]
  },
  {
   "cell_type": "code",
   "execution_count": null,
   "metadata": {},
   "outputs": [],
   "source": []
  },
  {
   "cell_type": "markdown",
   "metadata": {},
   "source": [
    "#### 堆排序"
   ]
  },
  {
   "cell_type": "markdown",
   "metadata": {},
   "source": [
    "#### 应用1-第k大(小)元素"
   ]
  },
  {
   "cell_type": "code",
   "execution_count": 11,
   "metadata": {},
   "outputs": [],
   "source": [
    "# 易错点：第k大应该是索引为n-k处的元素\n",
    "# -*- coding:utf-8 -*-\n",
    "\n",
    "class Solution:\n",
    "    def location(self,a,left,right):\n",
    "        base = left\n",
    "        while left < right:\n",
    "            while left < right and a[right] > a[base]:\n",
    "                right -= 1\n",
    "            while left < right and a[left] < a[base]:\n",
    "                left += 1\n",
    "            temp = a[right]\n",
    "            a[right] = a[left]\n",
    "            a[left] = temp\n",
    "        temp = a[base]\n",
    "        a[base] = a[left]\n",
    "        a[left] = temp\n",
    "        return left\n",
    "         \n",
    "    def quicksort(self,a,left,right,K):\n",
    "        temp = self.location(a, left, right)\n",
    "        if temp == K:\n",
    "            return a[temp]\n",
    "        elif temp > K:\n",
    "            return self.quicksort(a, left, temp-1, K)\n",
    "        else:\n",
    "            return self.quicksort(a, temp+1, right, K)\n",
    "\n",
    "    def findKth(self, a, n, K):\n",
    "        # write code here\n",
    "        return self.quicksort(a, 0, n-1, n-K)"
   ]
  },
  {
   "cell_type": "markdown",
   "metadata": {},
   "source": [
    "### 遍历"
   ]
  },
  {
   "cell_type": "markdown",
   "metadata": {},
   "source": [
    "#### 前序遍历"
   ]
  },
  {
   "cell_type": "code",
   "execution_count": 2,
   "metadata": {},
   "outputs": [],
   "source": [
    "# 前序\n",
    "# class TreeNode:\n",
    "#     def __init__(self, x):\n",
    "#         self.val = x\n",
    "#         self.left = None\n",
    "#         self.right = None\n",
    "def preorder(self,root):\n",
    "    if not root:\n",
    "        return []\n",
    "    self.temp.append(root.val)\n",
    "    self.preorder(root.left)\n",
    "    self.preorder(root.right)"
   ]
  },
  {
   "cell_type": "markdown",
   "metadata": {},
   "source": [
    "> 函数的返回值"
   ]
  },
  {
   "cell_type": "markdown",
   "metadata": {},
   "source": [
    "#### 层次遍历"
   ]
  },
  {
   "cell_type": "code",
   "execution_count": 3,
   "metadata": {},
   "outputs": [],
   "source": [
    "# 层次遍历\n",
    "from collections import deque\n",
    "class Solution:\n",
    "    def levelOrder(self , root ):\n",
    "        # write code here\n",
    "        q = deque([])\n",
    "        result = []\n",
    "        if not root:\n",
    "            return []\n",
    "        q.append(root)\n",
    "        while len(q) != 0:\n",
    "            length = len(q)\n",
    "            temp = []\n",
    "            for i in range(length):\n",
    "                node = q.popleft()\n",
    "                temp.append(node.val)\n",
    "                if node.left:\n",
    "                    q.append(node.left)\n",
    "                if node.right:\n",
    "                    q.append(node.right)\n",
    "            result.append(temp)\n",
    "        return result"
   ]
  },
  {
   "cell_type": "markdown",
   "metadata": {},
   "source": [
    "### 链表"
   ]
  },
  {
   "cell_type": "markdown",
   "metadata": {},
   "source": [
    "#### 应用1-NC93 LRU"
   ]
  },
  {
   "cell_type": "code",
   "execution_count": 10,
   "metadata": {},
   "outputs": [],
   "source": [
    "# 易错点：插入新的节点时，可能会插入重复的key，对于重复的key，修改其值，并设置为最常使用"
   ]
  },
  {
   "cell_type": "markdown",
   "metadata": {},
   "source": [
    "## 数据库"
   ]
  },
  {
   "cell_type": "code",
   "execution_count": null,
   "metadata": {},
   "outputs": [],
   "source": []
  }
 ],
 "metadata": {
  "kernelspec": {
   "display_name": "Python 3",
   "language": "python",
   "name": "python3"
  },
  "language_info": {
   "codemirror_mode": {
    "name": "ipython",
    "version": 3
   },
   "file_extension": ".py",
   "mimetype": "text/x-python",
   "name": "python",
   "nbconvert_exporter": "python",
   "pygments_lexer": "ipython3",
   "version": "3.7.3"
  },
  "toc": {
   "base_numbering": 1,
   "nav_menu": {},
   "number_sections": true,
   "sideBar": true,
   "skip_h1_title": false,
   "title_cell": "Table of Contents",
   "title_sidebar": "Contents",
   "toc_cell": false,
   "toc_position": {},
   "toc_section_display": true,
   "toc_window_display": true
  }
 },
 "nbformat": 4,
 "nbformat_minor": 2
}
