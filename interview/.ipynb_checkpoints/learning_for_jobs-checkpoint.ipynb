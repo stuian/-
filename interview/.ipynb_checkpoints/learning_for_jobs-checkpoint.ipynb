{
 "cells": [
  {
   "cell_type": "markdown",
   "metadata": {},
   "source": [
    "# 面试知识"
   ]
  },
  {
   "cell_type": "markdown",
   "metadata": {},
   "source": [
    "## 编程语言"
   ]
  },
  {
   "cell_type": "code",
   "execution_count": null,
   "metadata": {},
   "outputs": [],
   "source": []
  },
  {
   "cell_type": "markdown",
   "metadata": {},
   "source": [
    "## 数据结构和算法"
   ]
  },
  {
   "cell_type": "markdown",
   "metadata": {},
   "source": [
    "> 注意边界条件：比如头结点为空\n",
    "\n",
    "> 全是小错误，难受了"
   ]
  },
  {
   "cell_type": "markdown",
   "metadata": {},
   "source": [
    "常用的数据结构\n",
    "- 线性表\n",
    "- 链表\n",
    "- 树\n",
    "- 图\n",
    "- 哈希表：储存键值对"
   ]
  },
  {
   "cell_type": "markdown",
   "metadata": {},
   "source": [
    "堆和栈\n",
    "- 堆：完全二叉树，树中非叶子节点的值均不大于（不小于）其左右两边的子节点。"
   ]
  },
  {
   "cell_type": "markdown",
   "metadata": {},
   "source": [
    "### 排序"
   ]
  },
  {
   "cell_type": "markdown",
   "metadata": {},
   "source": [
    "#### python自带"
   ]
  },
  {
   "cell_type": "code",
   "execution_count": 5,
   "metadata": {},
   "outputs": [
    {
     "name": "stdout",
     "output_type": "stream",
     "text": [
      "[3, 2, 2, 1]\n"
     ]
    }
   ],
   "source": [
    "a = [2,3,1,2]\n",
    "a.sort(reverse=True)\n",
    "print(a)"
   ]
  },
  {
   "cell_type": "code",
   "execution_count": 6,
   "metadata": {},
   "outputs": [
    {
     "name": "stdout",
     "output_type": "stream",
     "text": [
      "[1,3,5,2,2],5,3\n",
      "[1, 3, 5, 2, 2]\n",
      "[2,3,4]\n",
      "[2]\n",
      " \n"
     ]
    }
   ],
   "source": [
    "# 输入格式\n",
    "while True:\n",
    "    try:\n",
    "        x = input().replace(\"]\",'')\n",
    "        x = x.replace(\"[\",'')\n",
    "        x = list(x.split(','))\n",
    "        k = int(x.pop())\n",
    "        n = int(x.pop())\n",
    "        temp = list(map(int,x))\n",
    "        print(temp)\n",
    "    except:\n",
    "        break"
   ]
  },
  {
   "cell_type": "markdown",
   "metadata": {},
   "source": [
    "#### 快速排序"
   ]
  },
  {
   "cell_type": "code",
   "execution_count": 18,
   "metadata": {},
   "outputs": [],
   "source": [
    "# 不熟练，写的很慢\n",
    "def location(arr,left,right):\n",
    "    temp = left\n",
    "    while left < right:\n",
    "        while left < right and arr[right]>=arr[temp]:\n",
    "                right -= 1\n",
    "        while left < right and arr[left]<=arr[temp]:\n",
    "                left += 1\n",
    "        # 交换left和right\n",
    "        c = arr[left] \n",
    "        arr[left] = arr[right]\n",
    "        arr[right] = c\n",
    "    # 把参考的数（arr[0]）放到left位置上\n",
    "    c = arr[temp]\n",
    "    arr[temp] = arr[left]\n",
    "    arr[left] = c\n",
    "    return left\n",
    "    \n",
    "def quicksort(arr,left,right):\n",
    "    if left < right:\n",
    "        temp = location(arr,left,right)\n",
    "        # 剩余左右两边\n",
    "        quicksort(arr,left,temp-1)\n",
    "        quicksort(arr,temp+1,right)"
   ]
  },
  {
   "cell_type": "code",
   "execution_count": 19,
   "metadata": {},
   "outputs": [
    {
     "name": "stdout",
     "output_type": "stream",
     "text": [
      "[1, 2, 3, 4, 5]\n"
     ]
    }
   ],
   "source": [
    "test = [5,2,3,1,4]\n",
    "quicksort(test,0,len(test)-1)\n",
    "print(test)"
   ]
  },
  {
   "cell_type": "markdown",
   "metadata": {},
   "source": [
    "#### 归并排序 "
   ]
  },
  {
   "cell_type": "code",
   "execution_count": null,
   "metadata": {},
   "outputs": [],
   "source": []
  },
  {
   "cell_type": "markdown",
   "metadata": {},
   "source": [
    "#### 堆排序"
   ]
  },
  {
   "cell_type": "markdown",
   "metadata": {},
   "source": [
    "#### 应用1-第k大(小)元素"
   ]
  },
  {
   "cell_type": "code",
   "execution_count": 11,
   "metadata": {},
   "outputs": [],
   "source": [
    "# 易错点：第k大应该是索引为n-k处的元素\n",
    "# -*- coding:utf-8 -*-\n",
    "\n",
    "class Solution:\n",
    "    def location(self,a,left,right):\n",
    "        base = left\n",
    "        while left < right:\n",
    "            while left < right and a[right] > a[base]:\n",
    "                right -= 1\n",
    "            while left < right and a[left] < a[base]:\n",
    "                left += 1\n",
    "            temp = a[right]\n",
    "            a[right] = a[left]\n",
    "            a[left] = temp\n",
    "        temp = a[base]\n",
    "        a[base] = a[left]\n",
    "        a[left] = temp\n",
    "        return left\n",
    "         \n",
    "    def quicksort(self,a,left,right,K):\n",
    "        temp = self.location(a, left, right)\n",
    "        if temp == K:\n",
    "            return a[temp]\n",
    "        elif temp > K:\n",
    "            return self.quicksort(a, left, temp-1, K)\n",
    "        else:\n",
    "            return self.quicksort(a, temp+1, right, K)\n",
    "\n",
    "    def findKth(self, a, n, K):\n",
    "        # write code here\n",
    "        return self.quicksort(a, 0, n-1, n-K)"
   ]
  },
  {
   "cell_type": "markdown",
   "metadata": {},
   "source": [
    "### 遍历"
   ]
  },
  {
   "cell_type": "markdown",
   "metadata": {},
   "source": [
    "#### 前序遍历"
   ]
  },
  {
   "cell_type": "code",
   "execution_count": 2,
   "metadata": {},
   "outputs": [],
   "source": [
    "# 前序\n",
    "# class TreeNode:\n",
    "#     def __init__(self, x):\n",
    "#         self.val = x\n",
    "#         self.left = None\n",
    "#         self.right = None\n",
    "def preorder(self,root):\n",
    "    if not root:\n",
    "        return []\n",
    "    self.temp.append(root.val)\n",
    "    self.preorder(root.left)\n",
    "    self.preorder(root.right)"
   ]
  },
  {
   "cell_type": "markdown",
   "metadata": {},
   "source": [
    "> 函数的返回值"
   ]
  },
  {
   "cell_type": "markdown",
   "metadata": {},
   "source": [
    "#### 层次遍历"
   ]
  },
  {
   "cell_type": "code",
   "execution_count": 3,
   "metadata": {},
   "outputs": [],
   "source": [
    "# 层次遍历\n",
    "from collections import deque\n",
    "class Solution:\n",
    "    def levelOrder(self , root ):\n",
    "        # write code here\n",
    "        q = deque([])\n",
    "        result = []\n",
    "        if not root:\n",
    "            return []\n",
    "        q.append(root)\n",
    "        while len(q) != 0:\n",
    "            length = len(q)\n",
    "            temp = []\n",
    "            for i in range(length):\n",
    "                node = q.popleft()\n",
    "                temp.append(node.val)\n",
    "                if node.left:\n",
    "                    q.append(node.left)\n",
    "                if node.right:\n",
    "                    q.append(node.right)\n",
    "            result.append(temp)\n",
    "        return result"
   ]
  },
  {
   "cell_type": "markdown",
   "metadata": {},
   "source": [
    "### 链表"
   ]
  },
  {
   "cell_type": "markdown",
   "metadata": {},
   "source": [
    "#### 应用1-NC93 LRU"
   ]
  },
  {
   "cell_type": "code",
   "execution_count": 10,
   "metadata": {},
   "outputs": [],
   "source": [
    "# 易错点：插入新的节点时，可能会插入重复的key，对于重复的key，修改其值，并设置为最常使用"
   ]
  },
  {
   "cell_type": "markdown",
   "metadata": {},
   "source": [
    "## 数据库"
   ]
  },
  {
   "cell_type": "code",
   "execution_count": null,
   "metadata": {},
   "outputs": [],
   "source": []
  }
 ],
 "metadata": {
  "kernelspec": {
   "display_name": "Python 3",
   "language": "python",
   "name": "python3"
  },
  "language_info": {
   "codemirror_mode": {
    "name": "ipython",
    "version": 3
   },
   "file_extension": ".py",
   "mimetype": "text/x-python",
   "name": "python",
   "nbconvert_exporter": "python",
   "pygments_lexer": "ipython3",
   "version": "3.7.3"
  },
  "toc": {
   "base_numbering": 1,
   "nav_menu": {},
   "number_sections": true,
   "sideBar": true,
   "skip_h1_title": false,
   "title_cell": "Table of Contents",
   "title_sidebar": "Contents",
   "toc_cell": false,
   "toc_position": {},
   "toc_section_display": true,
   "toc_window_display": true
  }
 },
 "nbformat": 4,
 "nbformat_minor": 2
}
