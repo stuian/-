{
 "cells": [
  {
   "cell_type": "markdown",
   "metadata": {},
   "source": [
    "# 面试知识"
   ]
  },
  {
   "cell_type": "markdown",
   "metadata": {},
   "source": [
    "## 编程语言"
   ]
  },
  {
   "cell_type": "code",
   "execution_count": null,
   "metadata": {},
   "outputs": [],
   "source": []
  },
  {
   "cell_type": "markdown",
   "metadata": {},
   "source": [
    "## 数据结构和算法"
   ]
  },
  {
   "cell_type": "markdown",
   "metadata": {},
   "source": [
    "常用的数据结构\n",
    "- 线性表\n",
    "- 链表\n",
    "- 树\n",
    "- 图"
   ]
  },
  {
   "cell_type": "markdown",
   "metadata": {},
   "source": [
    "堆和栈"
   ]
  },
  {
   "cell_type": "markdown",
   "metadata": {},
   "source": [
    "### 排序"
   ]
  },
  {
   "cell_type": "markdown",
   "metadata": {},
   "source": [
    "#### 快速排序"
   ]
  },
  {
   "cell_type": "code",
   "execution_count": 18,
   "metadata": {},
   "outputs": [],
   "source": [
    "# 不熟练，写的很慢\n",
    "def location(arr,left,right):\n",
    "    temp = left\n",
    "    while left < right:\n",
    "        while left < right and arr[right]>=arr[temp]:\n",
    "                right -= 1\n",
    "        while left < right and arr[left]<=arr[temp]:\n",
    "                left += 1\n",
    "        # 交换left和right\n",
    "        c = arr[left] \n",
    "        arr[left] = arr[right]\n",
    "        arr[right] = c\n",
    "    # 把参考的数（arr[0]）放到left位置上\n",
    "    c = arr[temp]\n",
    "    arr[temp] = arr[left]\n",
    "    arr[left] = c\n",
    "    return left\n",
    "    \n",
    "def quicksort(arr,left,right):\n",
    "    if left < right:\n",
    "        temp = location(arr,left,right)\n",
    "        # 剩余左右两边\n",
    "        quicksort(arr,left,temp-1)\n",
    "        quicksort(arr,temp+1,right)"
   ]
  },
  {
   "cell_type": "code",
   "execution_count": 19,
   "metadata": {},
   "outputs": [
    {
     "name": "stdout",
     "output_type": "stream",
     "text": [
      "[1, 2, 3, 4, 5]\n"
     ]
    }
   ],
   "source": [
    "test = [5,2,3,1,4]\n",
    "quicksort(test,0,len(test)-1)\n",
    "print(test)"
   ]
  },
  {
   "cell_type": "markdown",
   "metadata": {},
   "source": [
    "#### 归并排序 "
   ]
  },
  {
   "cell_type": "code",
   "execution_count": null,
   "metadata": {},
   "outputs": [],
   "source": []
  },
  {
   "cell_type": "markdown",
   "metadata": {},
   "source": [
    "### 数据库"
   ]
  },
  {
   "cell_type": "code",
   "execution_count": null,
   "metadata": {},
   "outputs": [],
   "source": []
  }
 ],
 "metadata": {
  "kernelspec": {
   "display_name": "Python 3",
   "language": "python",
   "name": "python3"
  },
  "language_info": {
   "codemirror_mode": {
    "name": "ipython",
    "version": 3
   },
   "file_extension": ".py",
   "mimetype": "text/x-python",
   "name": "python",
   "nbconvert_exporter": "python",
   "pygments_lexer": "ipython3",
   "version": "3.7.3"
  },
  "toc": {
   "base_numbering": 1,
   "nav_menu": {},
   "number_sections": true,
   "sideBar": true,
   "skip_h1_title": false,
   "title_cell": "Table of Contents",
   "title_sidebar": "Contents",
   "toc_cell": false,
   "toc_position": {},
   "toc_section_display": true,
   "toc_window_display": true
  }
 },
 "nbformat": 4,
 "nbformat_minor": 2
}
