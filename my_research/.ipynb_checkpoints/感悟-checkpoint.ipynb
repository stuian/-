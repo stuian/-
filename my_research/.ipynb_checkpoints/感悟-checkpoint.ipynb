{
 "cells": [
  {
   "cell_type": "markdown",
   "metadata": {},
   "source": [
    "# 感悟"
   ]
  },
  {
   "cell_type": "markdown",
   "metadata": {},
   "source": [
    "01 技术的广度和深度"
   ]
  },
  {
   "cell_type": "markdown",
   "metadata": {},
   "source": [
    "02 敢想敢做"
   ]
  },
  {
   "cell_type": "markdown",
   "metadata": {},
   "source": [
    "03 看书-实践-看书"
   ]
  },
  {
   "cell_type": "markdown",
   "metadata": {},
   "source": [
    "04 了解公司的技术架构"
   ]
  },
  {
   "cell_type": "markdown",
   "metadata": {},
   "source": [
    "05 star：背景+任务+行动+结果"
   ]
  },
  {
   "cell_type": "code",
   "execution_count": null,
   "metadata": {},
   "outputs": [],
   "source": []
  }
 ],
 "metadata": {
  "kernelspec": {
   "display_name": "Python 3",
   "language": "python",
   "name": "python3"
  },
  "language_info": {
   "codemirror_mode": {
    "name": "ipython",
    "version": 3
   },
   "file_extension": ".py",
   "mimetype": "text/x-python",
   "name": "python",
   "nbconvert_exporter": "python",
   "pygments_lexer": "ipython3",
   "version": "3.7.3"
  },
  "toc": {
   "base_numbering": 1,
   "nav_menu": {},
   "number_sections": true,
   "sideBar": true,
   "skip_h1_title": false,
   "title_cell": "Table of Contents",
   "title_sidebar": "Contents",
   "toc_cell": false,
   "toc_position": {},
   "toc_section_display": true,
   "toc_window_display": false
  }
 },
 "nbformat": 4,
 "nbformat_minor": 2
}
